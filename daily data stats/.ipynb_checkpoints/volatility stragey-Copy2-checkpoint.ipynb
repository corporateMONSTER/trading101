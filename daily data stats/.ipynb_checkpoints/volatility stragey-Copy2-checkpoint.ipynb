{
 "cells": [
  {
   "cell_type": "code",
   "execution_count": 15,
   "id": "414f3a2a",
   "metadata": {},
   "outputs": [],
   "source": [
    "import pandas as pd\n",
    "import numpy as np\n",
    "import statistics\n"
   ]
  },
  {
   "cell_type": "code",
   "execution_count": 16,
   "id": "2cdf18a1",
   "metadata": {},
   "outputs": [],
   "source": [
    "df=pd.read_excel('C:/Users/LENOVO/Downloads/Mission stocks/All data/MISSION STOCKS.xlsx')"
   ]
  },
  {
   "cell_type": "code",
   "execution_count": 17,
   "id": "3651b869",
   "metadata": {},
   "outputs": [
    {
     "data": {
      "text/html": [
       "<div>\n",
       "<style scoped>\n",
       "    .dataframe tbody tr th:only-of-type {\n",
       "        vertical-align: middle;\n",
       "    }\n",
       "\n",
       "    .dataframe tbody tr th {\n",
       "        vertical-align: top;\n",
       "    }\n",
       "\n",
       "    .dataframe thead th {\n",
       "        text-align: right;\n",
       "    }\n",
       "</style>\n",
       "<table border=\"1\" class=\"dataframe\">\n",
       "  <thead>\n",
       "    <tr style=\"text-align: right;\">\n",
       "      <th></th>\n",
       "      <th>Date</th>\n",
       "      <th>ADANIPORTS</th>\n",
       "      <th>ASIANPAINT</th>\n",
       "      <th>AXISBANK</th>\n",
       "      <th>BAJAJ-AUTO</th>\n",
       "      <th>BAJAJFINSV</th>\n",
       "      <th>BAJFINANCE</th>\n",
       "      <th>BHARTIARTL</th>\n",
       "      <th>BPCL</th>\n",
       "      <th>BRITANNIA</th>\n",
       "      <th>...</th>\n",
       "      <th>PEL</th>\n",
       "      <th>PETRONET</th>\n",
       "      <th>PIDILITIND</th>\n",
       "      <th>PNB</th>\n",
       "      <th>UBL</th>\n",
       "      <th>TORNTPHARM</th>\n",
       "      <th>SIEMENS</th>\n",
       "      <th>SBICARD</th>\n",
       "      <th>PGHH</th>\n",
       "      <th>Unnamed: 99</th>\n",
       "    </tr>\n",
       "  </thead>\n",
       "  <tbody>\n",
       "    <tr>\n",
       "      <th>0</th>\n",
       "      <td>2021-07-09</td>\n",
       "      <td>728.5</td>\n",
       "      <td>3010.6</td>\n",
       "      <td>747.35</td>\n",
       "      <td>3995.9</td>\n",
       "      <td>12854.75</td>\n",
       "      <td>6136.15</td>\n",
       "      <td>536.25</td>\n",
       "      <td>456.9</td>\n",
       "      <td>3475.95</td>\n",
       "      <td>...</td>\n",
       "      <td>2312.15</td>\n",
       "      <td>224.0</td>\n",
       "      <td>2277.80</td>\n",
       "      <td>41.00</td>\n",
       "      <td>1431.35</td>\n",
       "      <td>3005.05</td>\n",
       "      <td>2002.15</td>\n",
       "      <td>974.5</td>\n",
       "      <td>13134.70</td>\n",
       "      <td>NaN</td>\n",
       "    </tr>\n",
       "    <tr>\n",
       "      <th>1</th>\n",
       "      <td>2021-07-08</td>\n",
       "      <td>711.7</td>\n",
       "      <td>3028.3</td>\n",
       "      <td>754.40</td>\n",
       "      <td>4077.3</td>\n",
       "      <td>12333.90</td>\n",
       "      <td>6117.80</td>\n",
       "      <td>525.30</td>\n",
       "      <td>458.2</td>\n",
       "      <td>3491.40</td>\n",
       "      <td>...</td>\n",
       "      <td>2320.45</td>\n",
       "      <td>223.8</td>\n",
       "      <td>2283.45</td>\n",
       "      <td>41.05</td>\n",
       "      <td>1420.20</td>\n",
       "      <td>2945.50</td>\n",
       "      <td>2013.45</td>\n",
       "      <td>984.4</td>\n",
       "      <td>13186.95</td>\n",
       "      <td>NaN</td>\n",
       "    </tr>\n",
       "  </tbody>\n",
       "</table>\n",
       "<p>2 rows × 100 columns</p>\n",
       "</div>"
      ],
      "text/plain": [
       "        Date  ADANIPORTS  ASIANPAINT  AXISBANK  BAJAJ-AUTO  BAJAJFINSV  \\\n",
       "0 2021-07-09       728.5      3010.6    747.35      3995.9    12854.75   \n",
       "1 2021-07-08       711.7      3028.3    754.40      4077.3    12333.90   \n",
       "\n",
       "   BAJFINANCE  BHARTIARTL   BPCL  BRITANNIA  ...      PEL  PETRONET  \\\n",
       "0     6136.15      536.25  456.9    3475.95  ...  2312.15     224.0   \n",
       "1     6117.80      525.30  458.2    3491.40  ...  2320.45     223.8   \n",
       "\n",
       "   PIDILITIND    PNB      UBL  TORNTPHARM  SIEMENS  SBICARD      PGHH  \\\n",
       "0     2277.80  41.00  1431.35     3005.05  2002.15    974.5  13134.70   \n",
       "1     2283.45  41.05  1420.20     2945.50  2013.45    984.4  13186.95   \n",
       "\n",
       "   Unnamed: 99  \n",
       "0          NaN  \n",
       "1          NaN  \n",
       "\n",
       "[2 rows x 100 columns]"
      ]
     },
     "execution_count": 17,
     "metadata": {},
     "output_type": "execute_result"
    }
   ],
   "source": [
    "df.head(2)"
   ]
  },
  {
   "cell_type": "code",
   "execution_count": 18,
   "id": "bd252850",
   "metadata": {},
   "outputs": [
    {
     "data": {
      "text/html": [
       "<div>\n",
       "<style scoped>\n",
       "    .dataframe tbody tr th:only-of-type {\n",
       "        vertical-align: middle;\n",
       "    }\n",
       "\n",
       "    .dataframe tbody tr th {\n",
       "        vertical-align: top;\n",
       "    }\n",
       "\n",
       "    .dataframe thead th {\n",
       "        text-align: right;\n",
       "    }\n",
       "</style>\n",
       "<table border=\"1\" class=\"dataframe\">\n",
       "  <thead>\n",
       "    <tr style=\"text-align: right;\">\n",
       "      <th></th>\n",
       "      <th>Date</th>\n",
       "      <th>ADANIPORTS</th>\n",
       "      <th>ASIANPAINT</th>\n",
       "      <th>AXISBANK</th>\n",
       "      <th>BAJAJ-AUTO</th>\n",
       "      <th>BAJAJFINSV</th>\n",
       "      <th>BAJFINANCE</th>\n",
       "      <th>BHARTIARTL</th>\n",
       "      <th>BPCL</th>\n",
       "      <th>BRITANNIA</th>\n",
       "      <th>...</th>\n",
       "      <th>PEL</th>\n",
       "      <th>PETRONET</th>\n",
       "      <th>PIDILITIND</th>\n",
       "      <th>PNB</th>\n",
       "      <th>UBL</th>\n",
       "      <th>TORNTPHARM</th>\n",
       "      <th>SIEMENS</th>\n",
       "      <th>SBICARD</th>\n",
       "      <th>PGHH</th>\n",
       "      <th>Unnamed: 99</th>\n",
       "    </tr>\n",
       "  </thead>\n",
       "  <tbody>\n",
       "    <tr>\n",
       "      <th>0</th>\n",
       "      <td>2021-07-09</td>\n",
       "      <td>728.5</td>\n",
       "      <td>3010.6</td>\n",
       "      <td>747.35</td>\n",
       "      <td>3995.9</td>\n",
       "      <td>12854.75</td>\n",
       "      <td>6136.15</td>\n",
       "      <td>536.25</td>\n",
       "      <td>456.9</td>\n",
       "      <td>3475.95</td>\n",
       "      <td>...</td>\n",
       "      <td>2312.15</td>\n",
       "      <td>224.0</td>\n",
       "      <td>2277.8</td>\n",
       "      <td>41.0</td>\n",
       "      <td>1431.35</td>\n",
       "      <td>3005.05</td>\n",
       "      <td>2002.15</td>\n",
       "      <td>974.5</td>\n",
       "      <td>13134.7</td>\n",
       "      <td>NaN</td>\n",
       "    </tr>\n",
       "  </tbody>\n",
       "</table>\n",
       "<p>1 rows × 100 columns</p>\n",
       "</div>"
      ],
      "text/plain": [
       "        Date  ADANIPORTS  ASIANPAINT  AXISBANK  BAJAJ-AUTO  BAJAJFINSV  \\\n",
       "0 2021-07-09       728.5      3010.6    747.35      3995.9    12854.75   \n",
       "\n",
       "   BAJFINANCE  BHARTIARTL   BPCL  BRITANNIA  ...      PEL  PETRONET  \\\n",
       "0     6136.15      536.25  456.9    3475.95  ...  2312.15     224.0   \n",
       "\n",
       "   PIDILITIND   PNB      UBL  TORNTPHARM  SIEMENS  SBICARD     PGHH  \\\n",
       "0      2277.8  41.0  1431.35     3005.05  2002.15    974.5  13134.7   \n",
       "\n",
       "   Unnamed: 99  \n",
       "0          NaN  \n",
       "\n",
       "[1 rows x 100 columns]"
      ]
     },
     "execution_count": 18,
     "metadata": {},
     "output_type": "execute_result"
    }
   ],
   "source": [
    "df.head(1)"
   ]
  },
  {
   "cell_type": "code",
   "execution_count": 19,
   "id": "9fd9b6a6",
   "metadata": {},
   "outputs": [
    {
     "data": {
      "text/plain": [
       "(252, 100)"
      ]
     },
     "execution_count": 19,
     "metadata": {},
     "output_type": "execute_result"
    }
   ],
   "source": [
    "df.shape"
   ]
  },
  {
   "cell_type": "code",
   "execution_count": 20,
   "id": "a29b89e0",
   "metadata": {},
   "outputs": [
    {
     "data": {
      "text/plain": [
       "Index(['Date', 'ADANIPORTS', 'ASIANPAINT', 'AXISBANK', 'BAJAJ-AUTO',\n",
       "       'BAJAJFINSV', 'BAJFINANCE', 'BHARTIARTL', 'BPCL', 'BRITANNIA', 'CIPLA',\n",
       "       'COALINDIA', 'DIVISLAB', 'DRREDDY', 'EICHERMOT', 'GRASIM', 'HCLTECH',\n",
       "       'HDFC', 'HDFCBANK', 'HDFCLIFE', 'HEROMOTOCO', 'HINDALCO', 'HINDUNILVR',\n",
       "       'ICICIBANK', 'INDUSINDBK', 'INFY', 'IOC', 'ITC', 'JSWSTEEL',\n",
       "       'KOTAKBANK', 'LT', 'M&M', 'MARUTI', 'NESTLEIND', 'NTPC', 'ONGC',\n",
       "       'POWERGRID', 'RELIANCE', 'SBILIFE', 'SBIN', 'SHREECEM', 'SUNPHARMA',\n",
       "       'TATACONSUM', 'TATAMOTORS', 'TATASTEEL', 'TCS', 'TECHM', 'TITAN',\n",
       "       'ULTRACEMCO', 'UPL', 'WIPRO', 'ABBOTINDIA', 'ACC', 'ADANIENT', 'ALKEM',\n",
       "       'AMBUJACEM', 'APOLLOHOSP', 'AUROPHARMA', 'BAJAJHLDNG', 'BANDHANBNK',\n",
       "       'BERGEPAINT', 'BIOCON', 'BOSCHLTD', 'CADILAHC', 'COLPAL', 'DABUR',\n",
       "       'DLF', 'DMART', 'GAIL', 'GLAND', 'GODREJCP', 'HDFCAMC', 'HINDPETRO',\n",
       "       'ICICIGI', 'HAVELLS', 'ICICIPRULI', 'IGL', 'INDIGO', 'INDUSTOWER',\n",
       "       'YESBANK', 'VEDL', 'JUBLFOOD', 'LTI', 'LUPIN', 'MARICO', 'MCDOWELL-N',\n",
       "       'MRF', 'MUTHOOTFIN', 'NAUKRI', 'NMDC', 'PEL', 'PETRONET', 'PIDILITIND',\n",
       "       'PNB', 'UBL', 'TORNTPHARM', 'SIEMENS', 'SBICARD', 'PGHH',\n",
       "       'Unnamed: 99'],\n",
       "      dtype='object')"
      ]
     },
     "execution_count": 20,
     "metadata": {},
     "output_type": "execute_result"
    }
   ],
   "source": [
    "df.columns"
   ]
  },
  {
   "cell_type": "code",
   "execution_count": 26,
   "id": "bf0839fc",
   "metadata": {
    "scrolled": true
   },
   "outputs": [
    {
     "name": "stdout",
     "output_type": "stream",
     "text": [
      "Average is  -0.2999282694345085\n",
      "Standard deviation is  2.583457048063517\n"
     ]
    }
   ],
   "source": [
    "\n",
    "    rt=[]\n",
    "    for i in range(len(df[\"ADANIPORTS\"])-1):\n",
    "        num=df[\"ADANIPORTS\"].iloc[i+1]\n",
    "        den=df[\"ADANIPORTS\"].iloc[i]\n",
    "        val=np.log(num/den)\n",
    "        val_final=val*100\n",
    "        rt.append(val_final)\n",
    "\n",
    "    tot=0\n",
    "    length=len(rt)\n",
    "    for i in rt:\n",
    "        tot=tot+i\n",
    "    average=tot/length\n",
    "    std=statistics.stdev(rt)\n",
    "    print(\"Average is \",average)\n",
    "    print(\"Standard deviation is \",std)\n",
    "\n",
    "    \n"
   ]
  },
  {
   "cell_type": "code",
   "execution_count": null,
   "id": "bcf2264e",
   "metadata": {},
   "outputs": [],
   "source": []
  },
  {
   "cell_type": "code",
   "execution_count": 27,
   "id": "4b82951b",
   "metadata": {},
   "outputs": [],
   "source": [
    "# for i in range(len(rt)):\n",
    "#     rt[i]=rt[i]*100\n",
    "    "
   ]
  },
  {
   "cell_type": "code",
   "execution_count": 28,
   "id": "432da0bb",
   "metadata": {},
   "outputs": [
    {
     "data": {
      "text/plain": [
       "251"
      ]
     },
     "execution_count": 28,
     "metadata": {},
     "output_type": "execute_result"
    }
   ],
   "source": [
    "len(rt)"
   ]
  },
  {
   "cell_type": "code",
   "execution_count": 29,
   "id": "f7224980",
   "metadata": {},
   "outputs": [],
   "source": [
    "# tot=0\n",
    "# length=len(rt)\n",
    "# for i in rt:\n",
    "#     tot=tot+i\n",
    "# print(tot/length)"
   ]
  },
  {
   "cell_type": "code",
   "execution_count": 30,
   "id": "0982811f",
   "metadata": {},
   "outputs": [
    {
     "data": {
      "text/plain": [
       "2.583457048063517"
      ]
     },
     "execution_count": 30,
     "metadata": {},
     "output_type": "execute_result"
    }
   ],
   "source": [
    "statistics.stdev(rt)"
   ]
  },
  {
   "cell_type": "code",
   "execution_count": 13,
   "id": "84b06f85",
   "metadata": {},
   "outputs": [
    {
     "data": {
      "text/plain": [
       "2.281"
      ]
     },
     "execution_count": 13,
     "metadata": {},
     "output_type": "execute_result"
    }
   ],
   "source": []
  },
  {
   "cell_type": "code",
   "execution_count": 14,
   "id": "b4d459c2",
   "metadata": {},
   "outputs": [],
   "source": [
    "# df[\"ADANIPORTS\"].iloc[3]"
   ]
  },
  {
   "cell_type": "code",
   "execution_count": null,
   "id": "f08d7689",
   "metadata": {},
   "outputs": [],
   "source": []
  }
 ],
 "metadata": {
  "kernelspec": {
   "display_name": "Python 3",
   "language": "python",
   "name": "python3"
  },
  "language_info": {
   "codemirror_mode": {
    "name": "ipython",
    "version": 3
   },
   "file_extension": ".py",
   "mimetype": "text/x-python",
   "name": "python",
   "nbconvert_exporter": "python",
   "pygments_lexer": "ipython3",
   "version": "3.8.8"
  }
 },
 "nbformat": 4,
 "nbformat_minor": 5
}
